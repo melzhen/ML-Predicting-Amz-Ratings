{
 "cells": [
  {
   "cell_type": "code",
   "execution_count": 15,
   "metadata": {},
   "outputs": [],
   "source": [
    "import pandas as pd\n",
    "\n",
    "trainingSet = pd.read_csv(\"/Users/mzhen/Downloads/midterm-melzhen/data/train.csv\")\n",
    "testingSet = pd.read_csv(\"/Users/mzhen/Downloads/midterm-melzhen/data/test.csv\")"
   ]
  },
  {
   "cell_type": "code",
   "execution_count": 2,
   "metadata": {},
   "outputs": [
    {
     "data": {
      "text/html": [
       "<div>\n",
       "<style scoped>\n",
       "    .dataframe tbody tr th:only-of-type {\n",
       "        vertical-align: middle;\n",
       "    }\n",
       "\n",
       "    .dataframe tbody tr th {\n",
       "        vertical-align: top;\n",
       "    }\n",
       "\n",
       "    .dataframe thead th {\n",
       "        text-align: right;\n",
       "    }\n",
       "</style>\n",
       "<table border=\"1\" class=\"dataframe\">\n",
       "  <thead>\n",
       "    <tr style=\"text-align: right;\">\n",
       "      <th></th>\n",
       "      <th>Id</th>\n",
       "      <th>HelpfulnessNumerator</th>\n",
       "      <th>HelpfulnessDenominator</th>\n",
       "      <th>Score</th>\n",
       "      <th>Time</th>\n",
       "    </tr>\n",
       "  </thead>\n",
       "  <tbody>\n",
       "    <tr>\n",
       "      <th>count</th>\n",
       "      <td>1.697533e+06</td>\n",
       "      <td>1.697533e+06</td>\n",
       "      <td>1.697533e+06</td>\n",
       "      <td>1.397533e+06</td>\n",
       "      <td>1.697533e+06</td>\n",
       "    </tr>\n",
       "    <tr>\n",
       "      <th>mean</th>\n",
       "      <td>8.487660e+05</td>\n",
       "      <td>3.569048e+00</td>\n",
       "      <td>5.301422e+00</td>\n",
       "      <td>4.111468e+00</td>\n",
       "      <td>1.262422e+09</td>\n",
       "    </tr>\n",
       "    <tr>\n",
       "      <th>std</th>\n",
       "      <td>4.900357e+05</td>\n",
       "      <td>1.727883e+01</td>\n",
       "      <td>2.024445e+01</td>\n",
       "      <td>1.196808e+00</td>\n",
       "      <td>1.289277e+08</td>\n",
       "    </tr>\n",
       "    <tr>\n",
       "      <th>min</th>\n",
       "      <td>0.000000e+00</td>\n",
       "      <td>0.000000e+00</td>\n",
       "      <td>0.000000e+00</td>\n",
       "      <td>1.000000e+00</td>\n",
       "      <td>8.793792e+08</td>\n",
       "    </tr>\n",
       "    <tr>\n",
       "      <th>25%</th>\n",
       "      <td>4.243830e+05</td>\n",
       "      <td>0.000000e+00</td>\n",
       "      <td>0.000000e+00</td>\n",
       "      <td>4.000000e+00</td>\n",
       "      <td>1.164413e+09</td>\n",
       "    </tr>\n",
       "    <tr>\n",
       "      <th>50%</th>\n",
       "      <td>8.487660e+05</td>\n",
       "      <td>1.000000e+00</td>\n",
       "      <td>1.000000e+00</td>\n",
       "      <td>5.000000e+00</td>\n",
       "      <td>1.307491e+09</td>\n",
       "    </tr>\n",
       "    <tr>\n",
       "      <th>75%</th>\n",
       "      <td>1.273149e+06</td>\n",
       "      <td>3.000000e+00</td>\n",
       "      <td>5.000000e+00</td>\n",
       "      <td>5.000000e+00</td>\n",
       "      <td>1.373242e+09</td>\n",
       "    </tr>\n",
       "    <tr>\n",
       "      <th>max</th>\n",
       "      <td>1.697532e+06</td>\n",
       "      <td>6.084000e+03</td>\n",
       "      <td>6.510000e+03</td>\n",
       "      <td>5.000000e+00</td>\n",
       "      <td>1.406074e+09</td>\n",
       "    </tr>\n",
       "  </tbody>\n",
       "</table>\n",
       "</div>"
      ],
      "text/plain": [
       "                 Id  HelpfulnessNumerator  HelpfulnessDenominator  \\\n",
       "count  1.697533e+06          1.697533e+06            1.697533e+06   \n",
       "mean   8.487660e+05          3.569048e+00            5.301422e+00   \n",
       "std    4.900357e+05          1.727883e+01            2.024445e+01   \n",
       "min    0.000000e+00          0.000000e+00            0.000000e+00   \n",
       "25%    4.243830e+05          0.000000e+00            0.000000e+00   \n",
       "50%    8.487660e+05          1.000000e+00            1.000000e+00   \n",
       "75%    1.273149e+06          3.000000e+00            5.000000e+00   \n",
       "max    1.697532e+06          6.084000e+03            6.510000e+03   \n",
       "\n",
       "              Score          Time  \n",
       "count  1.397533e+06  1.697533e+06  \n",
       "mean   4.111468e+00  1.262422e+09  \n",
       "std    1.196808e+00  1.289277e+08  \n",
       "min    1.000000e+00  8.793792e+08  \n",
       "25%    4.000000e+00  1.164413e+09  \n",
       "50%    5.000000e+00  1.307491e+09  \n",
       "75%    5.000000e+00  1.373242e+09  \n",
       "max    5.000000e+00  1.406074e+09  "
      ]
     },
     "execution_count": 2,
     "metadata": {},
     "output_type": "execute_result"
    }
   ],
   "source": [
    "trainingSet.describe()"
   ]
  },
  {
   "cell_type": "code",
   "execution_count": 3,
   "metadata": {},
   "outputs": [
    {
     "data": {
      "text/html": [
       "<div>\n",
       "<style scoped>\n",
       "    .dataframe tbody tr th:only-of-type {\n",
       "        vertical-align: middle;\n",
       "    }\n",
       "\n",
       "    .dataframe tbody tr th {\n",
       "        vertical-align: top;\n",
       "    }\n",
       "\n",
       "    .dataframe thead th {\n",
       "        text-align: right;\n",
       "    }\n",
       "</style>\n",
       "<table border=\"1\" class=\"dataframe\">\n",
       "  <thead>\n",
       "    <tr style=\"text-align: right;\">\n",
       "      <th></th>\n",
       "      <th>Id</th>\n",
       "      <th>Score</th>\n",
       "    </tr>\n",
       "  </thead>\n",
       "  <tbody>\n",
       "    <tr>\n",
       "      <th>count</th>\n",
       "      <td>3.000000e+05</td>\n",
       "      <td>0.0</td>\n",
       "    </tr>\n",
       "    <tr>\n",
       "      <th>mean</th>\n",
       "      <td>8.476586e+05</td>\n",
       "      <td>NaN</td>\n",
       "    </tr>\n",
       "    <tr>\n",
       "      <th>std</th>\n",
       "      <td>4.892773e+05</td>\n",
       "      <td>NaN</td>\n",
       "    </tr>\n",
       "    <tr>\n",
       "      <th>min</th>\n",
       "      <td>5.000000e+00</td>\n",
       "      <td>NaN</td>\n",
       "    </tr>\n",
       "    <tr>\n",
       "      <th>25%</th>\n",
       "      <td>4.234080e+05</td>\n",
       "      <td>NaN</td>\n",
       "    </tr>\n",
       "    <tr>\n",
       "      <th>50%</th>\n",
       "      <td>8.467925e+05</td>\n",
       "      <td>NaN</td>\n",
       "    </tr>\n",
       "    <tr>\n",
       "      <th>75%</th>\n",
       "      <td>1.271034e+06</td>\n",
       "      <td>NaN</td>\n",
       "    </tr>\n",
       "    <tr>\n",
       "      <th>max</th>\n",
       "      <td>1.697528e+06</td>\n",
       "      <td>NaN</td>\n",
       "    </tr>\n",
       "  </tbody>\n",
       "</table>\n",
       "</div>"
      ],
      "text/plain": [
       "                 Id  Score\n",
       "count  3.000000e+05    0.0\n",
       "mean   8.476586e+05    NaN\n",
       "std    4.892773e+05    NaN\n",
       "min    5.000000e+00    NaN\n",
       "25%    4.234080e+05    NaN\n",
       "50%    8.467925e+05    NaN\n",
       "75%    1.271034e+06    NaN\n",
       "max    1.697528e+06    NaN"
      ]
     },
     "execution_count": 3,
     "metadata": {},
     "output_type": "execute_result"
    }
   ],
   "source": [
    "testingSet.describe()"
   ]
  },
  {
   "cell_type": "code",
   "execution_count": 47,
   "metadata": {},
   "outputs": [
    {
     "data": {
      "text/html": [
       "<div>\n",
       "<style scoped>\n",
       "    .dataframe tbody tr th:only-of-type {\n",
       "        vertical-align: middle;\n",
       "    }\n",
       "\n",
       "    .dataframe tbody tr th {\n",
       "        vertical-align: top;\n",
       "    }\n",
       "\n",
       "    .dataframe thead th {\n",
       "        text-align: right;\n",
       "    }\n",
       "</style>\n",
       "<table border=\"1\" class=\"dataframe\">\n",
       "  <thead>\n",
       "    <tr style=\"text-align: right;\">\n",
       "      <th></th>\n",
       "      <th>Id</th>\n",
       "      <th>ProductId</th>\n",
       "      <th>UserId</th>\n",
       "      <th>HelpfulnessNumerator</th>\n",
       "      <th>HelpfulnessDenominator</th>\n",
       "      <th>Score</th>\n",
       "      <th>Time</th>\n",
       "      <th>Summary</th>\n",
       "      <th>Text</th>\n",
       "      <th>Sentiment_Score</th>\n",
       "      <th>Predicted_Score</th>\n",
       "    </tr>\n",
       "  </thead>\n",
       "  <tbody>\n",
       "    <tr>\n",
       "      <th>1134943</th>\n",
       "      <td>1134943</td>\n",
       "      <td>B00125WAWI</td>\n",
       "      <td>A10NM4PC3209XU</td>\n",
       "      <td>2</td>\n",
       "      <td>3</td>\n",
       "      <td>3.0</td>\n",
       "      <td>1319155200</td>\n",
       "      <td>A little entertaining, but director held back ...</td>\n",
       "      <td>The love story between the two gals is simply ...</td>\n",
       "      <td>-0.045837</td>\n",
       "      <td>4.0</td>\n",
       "    </tr>\n",
       "    <tr>\n",
       "      <th>682603</th>\n",
       "      <td>682603</td>\n",
       "      <td>B00005U0JX</td>\n",
       "      <td>A1JH5J1KQAUBMP</td>\n",
       "      <td>2</td>\n",
       "      <td>2</td>\n",
       "      <td>5.0</td>\n",
       "      <td>1081036800</td>\n",
       "      <td>Exhilerating</td>\n",
       "      <td>As the result of a wager between native hothea...</td>\n",
       "      <td>0.244415</td>\n",
       "      <td>1.0</td>\n",
       "    </tr>\n",
       "    <tr>\n",
       "      <th>1180647</th>\n",
       "      <td>1180647</td>\n",
       "      <td>B001DHXT1G</td>\n",
       "      <td>A1RSXP7MB772E3</td>\n",
       "      <td>0</td>\n",
       "      <td>0</td>\n",
       "      <td>4.0</td>\n",
       "      <td>1224806400</td>\n",
       "      <td>Enjoyable, with good characters and exotic loc...</td>\n",
       "      <td>The Hulk is more visceral that any other Comic...</td>\n",
       "      <td>0.394650</td>\n",
       "      <td>1.0</td>\n",
       "    </tr>\n",
       "    <tr>\n",
       "      <th>1205329</th>\n",
       "      <td>1205329</td>\n",
       "      <td>B001J66JQS</td>\n",
       "      <td>A28IP5K9LFL7AV</td>\n",
       "      <td>0</td>\n",
       "      <td>0</td>\n",
       "      <td>5.0</td>\n",
       "      <td>1358640000</td>\n",
       "      <td>great dvd</td>\n",
       "      <td>Love Max Gerson's work and great to see his fa...</td>\n",
       "      <td>0.129032</td>\n",
       "      <td>4.0</td>\n",
       "    </tr>\n",
       "    <tr>\n",
       "      <th>1168057</th>\n",
       "      <td>1168057</td>\n",
       "      <td>B001ARDBXK</td>\n",
       "      <td>A4YP8C4QHU2I1</td>\n",
       "      <td>0</td>\n",
       "      <td>0</td>\n",
       "      <td>4.0</td>\n",
       "      <td>1367020800</td>\n",
       "      <td>Charlie Chan fan</td>\n",
       "      <td>Thanks for this addition to mywith Sidney Tole...</td>\n",
       "      <td>0.090909</td>\n",
       "      <td>4.0</td>\n",
       "    </tr>\n",
       "  </tbody>\n",
       "</table>\n",
       "</div>"
      ],
      "text/plain": [
       "              Id   ProductId          UserId  HelpfulnessNumerator  \\\n",
       "1134943  1134943  B00125WAWI  A10NM4PC3209XU                     2   \n",
       "682603    682603  B00005U0JX  A1JH5J1KQAUBMP                     2   \n",
       "1180647  1180647  B001DHXT1G  A1RSXP7MB772E3                     0   \n",
       "1205329  1205329  B001J66JQS  A28IP5K9LFL7AV                     0   \n",
       "1168057  1168057  B001ARDBXK   A4YP8C4QHU2I1                     0   \n",
       "\n",
       "         HelpfulnessDenominator  Score        Time  \\\n",
       "1134943                       3    3.0  1319155200   \n",
       "682603                        2    5.0  1081036800   \n",
       "1180647                       0    4.0  1224806400   \n",
       "1205329                       0    5.0  1358640000   \n",
       "1168057                       0    4.0  1367020800   \n",
       "\n",
       "                                                   Summary  \\\n",
       "1134943  A little entertaining, but director held back ...   \n",
       "682603                                        Exhilerating   \n",
       "1180647  Enjoyable, with good characters and exotic loc...   \n",
       "1205329                                          great dvd   \n",
       "1168057                                   Charlie Chan fan   \n",
       "\n",
       "                                                      Text  Sentiment_Score  \\\n",
       "1134943  The love story between the two gals is simply ...        -0.045837   \n",
       "682603   As the result of a wager between native hothea...         0.244415   \n",
       "1180647  The Hulk is more visceral that any other Comic...         0.394650   \n",
       "1205329  Love Max Gerson's work and great to see his fa...         0.129032   \n",
       "1168057  Thanks for this addition to mywith Sidney Tole...         0.090909   \n",
       "\n",
       "         Predicted_Score  \n",
       "1134943              4.0  \n",
       "682603               1.0  \n",
       "1180647              1.0  \n",
       "1205329              4.0  \n",
       "1168057              4.0  "
      ]
     },
     "execution_count": 47,
     "metadata": {},
     "output_type": "execute_result"
    }
   ],
   "source": [
    "trainingSet.head()"
   ]
  },
  {
   "cell_type": "code",
   "execution_count": 3,
   "metadata": {},
   "outputs": [],
   "source": [
    "import matplotlib.pyplot as plt"
   ]
  },
  {
   "cell_type": "code",
   "execution_count": 9,
   "metadata": {},
   "outputs": [
    {
     "data": {
      "text/plain": [
       "5.0    746520\n",
       "4.0    315587\n",
       "3.0    165727\n",
       "1.0     85615\n",
       "2.0     84084\n",
       "Name: Score, dtype: int64"
      ]
     },
     "execution_count": 9,
     "metadata": {},
     "output_type": "execute_result"
    }
   ],
   "source": [
    "trainingSet['Score'].value_counts()"
   ]
  },
  {
   "cell_type": "code",
   "execution_count": 7,
   "metadata": {},
   "outputs": [
    {
     "data": {
      "image/png": "[encoded data removed]",
      "text/plain": [
       "<Figure size 640x480 with 1 Axes>"
      ]
     },
     "metadata": {},
     "output_type": "display_data"
    }
   ],
   "source": [
    "trainingSet['Score'].value_counts().plot(kind='bar')\n",
    "plt.title(\"Count of Scores\")\n",
    "plt.show()"
   ]
  },
  {
   "cell_type": "code",
   "execution_count": 44,
   "metadata": {},
   "outputs": [
    {
     "data": {
      "text/plain": [
       "B001KVZ6HK    22\n",
       "B003EYVXV4    20\n",
       "0793906091    19\n",
       "B00003CWT6    18\n",
       "B00FZM8Z7I    18\n",
       "Name: ProductId, dtype: int64"
      ]
     },
     "execution_count": 44,
     "metadata": {},
     "output_type": "execute_result"
    }
   ],
   "source": [
    "trainingSet['ProductId'].value_counts().head()"
   ]
  },
  {
   "cell_type": "code",
   "execution_count": 10,
   "metadata": {},
   "outputs": [
    {
     "data": {
      "image/png": "[encoded data removed]",
      "text/plain": [
       "<Figure size 640x480 with 1 Axes>"
      ]
     },
     "metadata": {},
     "output_type": "display_data"
    }
   ],
   "source": [
    "trainingSet['ProductId'].value_counts().nlargest(25).plot(kind='bar')\n",
    "plt.title(\"Top 25 most rated Products\")\n",
    "plt.show()"
   ]
  },
  {
   "cell_type": "code",
   "execution_count": null,
   "metadata": {},
   "outputs": [],
   "source": [
    "trainingSet['ProductId'].value_counts().nlargest(25)"
   ]
  },
  {
   "cell_type": "markdown",
   "metadata": {},
   "source": [
    "KMeans Cluster\n",
    "If helpfulness numerator is high then it is likely a 5\n"
   ]
  },
  {
   "cell_type": "markdown",
   "metadata": {},
   "source": [
    "# Calculate Sentiment Score Using NLTK Library"
   ]
  },
  {
   "cell_type": "code",
   "execution_count": 16,
   "metadata": {},
   "outputs": [],
   "source": [
    "# Shuffle dataframe \n",
    "trainingSet = trainingSet.sample(frac=1, random_state=1)\n",
    "testingSet = testingSet.sample(frac=1, random_state=1)\n",
    "\n",
    "\n",
    "# Use 1% of the data right now because dataset is too large\n",
    "trainingSet = trainingSet[: int(0.01 * len(trainingSet))] \n",
    "testingSet = testingSet[: int(0.01 * len(testingSet))]"
   ]
  },
  {
   "cell_type": "code",
   "execution_count": 17,
   "metadata": {},
   "outputs": [],
   "source": [
    "trainingSet['Text'] = trainingSet['Text'].astype(str)\n",
    "scores = list(trainingSet['Score'])\n",
    "reviews = list(trainingSet['Text'])"
   ]
  },
  {
   "cell_type": "code",
   "execution_count": 18,
   "metadata": {},
   "outputs": [
    {
     "name": "stdout",
     "output_type": "stream",
     "text": [
      "3.0\n",
      "The love story between the two gals is simply not believable because there is nothing prior to their \"awakening\" that indicates either one of them was physically or emotionally attracted to the other. Was Nina a lesbian when she first appears on the screen? Was Lisa a lesbian coincidentally working in the restaurant? No clues given. The director (Parma) was ultimately timid about the subject and the first kiss between Nina and Lisa is delivered without spark and passion -- and if there's more to being a lesbian than just two women kissing, you won't find it with these characters. The story of two women destined to find an interest in each other beyond their attachment to the restaurant lacks evolution. Finally, the pseudo-Bollywood ending was not only out of place, but it made whatever came before it absurd.\n"
     ]
    }
   ],
   "source": [
    "print(scores[0])\n",
    "print(reviews[0])"
   ]
  },
  {
   "cell_type": "code",
   "execution_count": 21,
   "metadata": {},
   "outputs": [
    {
     "name": "stderr",
     "output_type": "stream",
     "text": [
      "[nltk_data] Downloading package opinion_lexicon to\n",
      "[nltk_data]     /Users/mzhen/nltk_data...\n",
      "[nltk_data]   Package opinion_lexicon is already up-to-date!\n"
     ]
    }
   ],
   "source": [
    "import nltk\n",
    "from nltk.corpus import opinion_lexicon\n",
    "from nltk.tokenize import sent_tokenize, word_tokenize\n",
    "\n",
    "nltk.download('opinion_lexicon') \n",
    "\n",
    "positive_words = set(opinion_lexicon.positive())\n",
    "negative_words = set(opinion_lexicon.negative())"
   ]
  },
  {
   "cell_type": "code",
   "execution_count": 22,
   "metadata": {},
   "outputs": [],
   "source": [
    "def score_sent(sent):\n",
    "    sent = [e.lower() for e in sent if e.isalnum()]\n",
    "    total = len(sent)\n",
    "    pos = len([e for e in sent if e in positive_words])\n",
    "    neg = len([e for e in sent if e in negative_words])\n",
    "    if total > 0:\n",
    "        return (pos - neg) / total\n",
    "    else:\n",
    "        return 0"
   ]
  },
  {
   "cell_type": "code",
   "execution_count": 23,
   "metadata": {},
   "outputs": [],
   "source": [
    "def score_review(review):\n",
    "    sentiment_scores = []\n",
    "    sents = sent_tokenize(review)\n",
    "    for sent in sents:\n",
    "        words = word_tokenize(sent)\n",
    "        sent_scores = score_sent(words)\n",
    "        sentiment_scores.append(sent_scores)\n",
    "    return sum(sentiment_scores)"
   ]
  },
  {
   "cell_type": "code",
   "execution_count": 24,
   "metadata": {},
   "outputs": [],
   "source": [
    "review_sentiments = [score_review(e) for e in reviews]"
   ]
  },
  {
   "cell_type": "code",
   "execution_count": 25,
   "metadata": {},
   "outputs": [],
   "source": [
    "trainingSet['Sentiment_Score'] = review_sentiments"
   ]
  },
  {
   "cell_type": "code",
   "execution_count": 26,
   "metadata": {},
   "outputs": [],
   "source": [
    "from sklearn.cluster import KMeans\n",
    "\n",
    "kmeans = KMeans(n_clusters=5)\n",
    "\n",
    "sents_scores = trainingSet['Sentiment_Score'].to_numpy()\n",
    "sents_scores = sents_scores.reshape(-1, 1)\n",
    "clusters = kmeans.fit_predict(sents_scores)\n",
    "\n",
    "trainingSet['Predicted_Score'] = clusters.tolist()\n",
    "trainingSet['Predicted_Score'] = trainingSet['Predicted_Score'] + 1.0"
   ]
  },
  {
   "cell_type": "code",
   "execution_count": 27,
   "metadata": {},
   "outputs": [
    {
     "data": {
      "text/plain": [
       "1134943    4.0\n",
       "682603     1.0\n",
       "1180647    1.0\n",
       "1205329    4.0\n",
       "1168057    4.0\n",
       "Name: Predicted_Score, dtype: float64"
      ]
     },
     "execution_count": 27,
     "metadata": {},
     "output_type": "execute_result"
    }
   ],
   "source": [
    "trainingSet['Predicted_Score'].head()"
   ]
  },
  {
   "cell_type": "code",
   "execution_count": 28,
   "metadata": {},
   "outputs": [
    {
     "data": {
      "text/html": [
       "<div>\n",
       "<style scoped>\n",
       "    .dataframe tbody tr th:only-of-type {\n",
       "        vertical-align: middle;\n",
       "    }\n",
       "\n",
       "    .dataframe tbody tr th {\n",
       "        vertical-align: top;\n",
       "    }\n",
       "\n",
       "    .dataframe thead th {\n",
       "        text-align: right;\n",
       "    }\n",
       "</style>\n",
       "<table border=\"1\" class=\"dataframe\">\n",
       "  <thead>\n",
       "    <tr style=\"text-align: right;\">\n",
       "      <th></th>\n",
       "      <th>Id</th>\n",
       "      <th>ProductId</th>\n",
       "      <th>UserId</th>\n",
       "      <th>HelpfulnessNumerator</th>\n",
       "      <th>HelpfulnessDenominator</th>\n",
       "      <th>Score</th>\n",
       "      <th>Time</th>\n",
       "      <th>Summary</th>\n",
       "      <th>Text</th>\n",
       "      <th>Sentiment_Score</th>\n",
       "      <th>Predicted_Score</th>\n",
       "    </tr>\n",
       "  </thead>\n",
       "  <tbody>\n",
       "    <tr>\n",
       "      <th>1134943</th>\n",
       "      <td>1134943</td>\n",
       "      <td>B00125WAWI</td>\n",
       "      <td>A10NM4PC3209XU</td>\n",
       "      <td>2</td>\n",
       "      <td>3</td>\n",
       "      <td>3.0</td>\n",
       "      <td>1319155200</td>\n",
       "      <td>A little entertaining, but director held back ...</td>\n",
       "      <td>The love story between the two gals is simply ...</td>\n",
       "      <td>-0.045837</td>\n",
       "      <td>4.0</td>\n",
       "    </tr>\n",
       "    <tr>\n",
       "      <th>682603</th>\n",
       "      <td>682603</td>\n",
       "      <td>B00005U0JX</td>\n",
       "      <td>A1JH5J1KQAUBMP</td>\n",
       "      <td>2</td>\n",
       "      <td>2</td>\n",
       "      <td>5.0</td>\n",
       "      <td>1081036800</td>\n",
       "      <td>Exhilerating</td>\n",
       "      <td>As the result of a wager between native hothea...</td>\n",
       "      <td>0.244415</td>\n",
       "      <td>1.0</td>\n",
       "    </tr>\n",
       "    <tr>\n",
       "      <th>1180647</th>\n",
       "      <td>1180647</td>\n",
       "      <td>B001DHXT1G</td>\n",
       "      <td>A1RSXP7MB772E3</td>\n",
       "      <td>0</td>\n",
       "      <td>0</td>\n",
       "      <td>4.0</td>\n",
       "      <td>1224806400</td>\n",
       "      <td>Enjoyable, with good characters and exotic loc...</td>\n",
       "      <td>The Hulk is more visceral that any other Comic...</td>\n",
       "      <td>0.394650</td>\n",
       "      <td>1.0</td>\n",
       "    </tr>\n",
       "    <tr>\n",
       "      <th>1205329</th>\n",
       "      <td>1205329</td>\n",
       "      <td>B001J66JQS</td>\n",
       "      <td>A28IP5K9LFL7AV</td>\n",
       "      <td>0</td>\n",
       "      <td>0</td>\n",
       "      <td>5.0</td>\n",
       "      <td>1358640000</td>\n",
       "      <td>great dvd</td>\n",
       "      <td>Love Max Gerson's work and great to see his fa...</td>\n",
       "      <td>0.129032</td>\n",
       "      <td>4.0</td>\n",
       "    </tr>\n",
       "    <tr>\n",
       "      <th>1168057</th>\n",
       "      <td>1168057</td>\n",
       "      <td>B001ARDBXK</td>\n",
       "      <td>A4YP8C4QHU2I1</td>\n",
       "      <td>0</td>\n",
       "      <td>0</td>\n",
       "      <td>4.0</td>\n",
       "      <td>1367020800</td>\n",
       "      <td>Charlie Chan fan</td>\n",
       "      <td>Thanks for this addition to mywith Sidney Tole...</td>\n",
       "      <td>0.090909</td>\n",
       "      <td>4.0</td>\n",
       "    </tr>\n",
       "  </tbody>\n",
       "</table>\n",
       "</div>"
      ],
      "text/plain": [
       "              Id   ProductId          UserId  HelpfulnessNumerator  \\\n",
       "1134943  1134943  B00125WAWI  A10NM4PC3209XU                     2   \n",
       "682603    682603  B00005U0JX  A1JH5J1KQAUBMP                     2   \n",
       "1180647  1180647  B001DHXT1G  A1RSXP7MB772E3                     0   \n",
       "1205329  1205329  B001J66JQS  A28IP5K9LFL7AV                     0   \n",
       "1168057  1168057  B001ARDBXK   A4YP8C4QHU2I1                     0   \n",
       "\n",
       "         HelpfulnessDenominator  Score        Time  \\\n",
       "1134943                       3    3.0  1319155200   \n",
       "682603                        2    5.0  1081036800   \n",
       "1180647                       0    4.0  1224806400   \n",
       "1205329                       0    5.0  1358640000   \n",
       "1168057                       0    4.0  1367020800   \n",
       "\n",
       "                                                   Summary  \\\n",
       "1134943  A little entertaining, but director held back ...   \n",
       "682603                                        Exhilerating   \n",
       "1180647  Enjoyable, with good characters and exotic loc...   \n",
       "1205329                                          great dvd   \n",
       "1168057                                   Charlie Chan fan   \n",
       "\n",
       "                                                      Text  Sentiment_Score  \\\n",
       "1134943  The love story between the two gals is simply ...        -0.045837   \n",
       "682603   As the result of a wager between native hothea...         0.244415   \n",
       "1180647  The Hulk is more visceral that any other Comic...         0.394650   \n",
       "1205329  Love Max Gerson's work and great to see his fa...         0.129032   \n",
       "1168057  Thanks for this addition to mywith Sidney Tole...         0.090909   \n",
       "\n",
       "         Predicted_Score  \n",
       "1134943              4.0  \n",
       "682603               1.0  \n",
       "1180647              1.0  \n",
       "1205329              4.0  \n",
       "1168057              4.0  "
      ]
     },
     "execution_count": 28,
     "metadata": {},
     "output_type": "execute_result"
    }
   ],
   "source": [
    "trainingSet.head()"
   ]
  },
  {
   "cell_type": "markdown",
   "metadata": {},
   "source": [
    "# Average Length of words "
   ]
  },
  {
   "cell_type": "code",
   "execution_count": 49,
   "metadata": {},
   "outputs": [
    {
     "data": {
      "text/html": [
       "<div>\n",
       "<style scoped>\n",
       "    .dataframe tbody tr th:only-of-type {\n",
       "        vertical-align: middle;\n",
       "    }\n",
       "\n",
       "    .dataframe tbody tr th {\n",
       "        vertical-align: top;\n",
       "    }\n",
       "\n",
       "    .dataframe thead th {\n",
       "        text-align: right;\n",
       "    }\n",
       "</style>\n",
       "<table border=\"1\" class=\"dataframe\">\n",
       "  <thead>\n",
       "    <tr style=\"text-align: right;\">\n",
       "      <th></th>\n",
       "      <th>Id</th>\n",
       "      <th>ProductId</th>\n",
       "      <th>UserId</th>\n",
       "      <th>HelpfulnessNumerator</th>\n",
       "      <th>HelpfulnessDenominator</th>\n",
       "      <th>Score</th>\n",
       "      <th>Time</th>\n",
       "      <th>Summary</th>\n",
       "      <th>Text</th>\n",
       "      <th>Sentiment_Score</th>\n",
       "      <th>Predicted_Score</th>\n",
       "      <th>Number of Words</th>\n",
       "    </tr>\n",
       "  </thead>\n",
       "  <tbody>\n",
       "    <tr>\n",
       "      <th>1134943</th>\n",
       "      <td>1134943</td>\n",
       "      <td>B00125WAWI</td>\n",
       "      <td>A10NM4PC3209XU</td>\n",
       "      <td>2</td>\n",
       "      <td>3</td>\n",
       "      <td>3.0</td>\n",
       "      <td>1319155200</td>\n",
       "      <td>A little entertaining, but director held back ...</td>\n",
       "      <td>The love story between the two gals is simply ...</td>\n",
       "      <td>-0.045837</td>\n",
       "      <td>4.0</td>\n",
       "      <td>139</td>\n",
       "    </tr>\n",
       "    <tr>\n",
       "      <th>682603</th>\n",
       "      <td>682603</td>\n",
       "      <td>B00005U0JX</td>\n",
       "      <td>A1JH5J1KQAUBMP</td>\n",
       "      <td>2</td>\n",
       "      <td>2</td>\n",
       "      <td>5.0</td>\n",
       "      <td>1081036800</td>\n",
       "      <td>Exhilerating</td>\n",
       "      <td>As the result of a wager between native hothea...</td>\n",
       "      <td>0.244415</td>\n",
       "      <td>1.0</td>\n",
       "      <td>184</td>\n",
       "    </tr>\n",
       "    <tr>\n",
       "      <th>1180647</th>\n",
       "      <td>1180647</td>\n",
       "      <td>B001DHXT1G</td>\n",
       "      <td>A1RSXP7MB772E3</td>\n",
       "      <td>0</td>\n",
       "      <td>0</td>\n",
       "      <td>4.0</td>\n",
       "      <td>1224806400</td>\n",
       "      <td>Enjoyable, with good characters and exotic loc...</td>\n",
       "      <td>The Hulk is more visceral that any other Comic...</td>\n",
       "      <td>0.394650</td>\n",
       "      <td>1.0</td>\n",
       "      <td>348</td>\n",
       "    </tr>\n",
       "    <tr>\n",
       "      <th>1205329</th>\n",
       "      <td>1205329</td>\n",
       "      <td>B001J66JQS</td>\n",
       "      <td>A28IP5K9LFL7AV</td>\n",
       "      <td>0</td>\n",
       "      <td>0</td>\n",
       "      <td>5.0</td>\n",
       "      <td>1358640000</td>\n",
       "      <td>great dvd</td>\n",
       "      <td>Love Max Gerson's work and great to see his fa...</td>\n",
       "      <td>0.129032</td>\n",
       "      <td>4.0</td>\n",
       "      <td>30</td>\n",
       "    </tr>\n",
       "    <tr>\n",
       "      <th>1168057</th>\n",
       "      <td>1168057</td>\n",
       "      <td>B001ARDBXK</td>\n",
       "      <td>A4YP8C4QHU2I1</td>\n",
       "      <td>0</td>\n",
       "      <td>0</td>\n",
       "      <td>4.0</td>\n",
       "      <td>1367020800</td>\n",
       "      <td>Charlie Chan fan</td>\n",
       "      <td>Thanks for this addition to mywith Sidney Tole...</td>\n",
       "      <td>0.090909</td>\n",
       "      <td>4.0</td>\n",
       "      <td>20</td>\n",
       "    </tr>\n",
       "  </tbody>\n",
       "</table>\n",
       "</div>"
      ],
      "text/plain": [
       "              Id   ProductId          UserId  HelpfulnessNumerator  \\\n",
       "1134943  1134943  B00125WAWI  A10NM4PC3209XU                     2   \n",
       "682603    682603  B00005U0JX  A1JH5J1KQAUBMP                     2   \n",
       "1180647  1180647  B001DHXT1G  A1RSXP7MB772E3                     0   \n",
       "1205329  1205329  B001J66JQS  A28IP5K9LFL7AV                     0   \n",
       "1168057  1168057  B001ARDBXK   A4YP8C4QHU2I1                     0   \n",
       "\n",
       "         HelpfulnessDenominator  Score        Time  \\\n",
       "1134943                       3    3.0  1319155200   \n",
       "682603                        2    5.0  1081036800   \n",
       "1180647                       0    4.0  1224806400   \n",
       "1205329                       0    5.0  1358640000   \n",
       "1168057                       0    4.0  1367020800   \n",
       "\n",
       "                                                   Summary  \\\n",
       "1134943  A little entertaining, but director held back ...   \n",
       "682603                                        Exhilerating   \n",
       "1180647  Enjoyable, with good characters and exotic loc...   \n",
       "1205329                                          great dvd   \n",
       "1168057                                   Charlie Chan fan   \n",
       "\n",
       "                                                      Text  Sentiment_Score  \\\n",
       "1134943  The love story between the two gals is simply ...        -0.045837   \n",
       "682603   As the result of a wager between native hothea...         0.244415   \n",
       "1180647  The Hulk is more visceral that any other Comic...         0.394650   \n",
       "1205329  Love Max Gerson's work and great to see his fa...         0.129032   \n",
       "1168057  Thanks for this addition to mywith Sidney Tole...         0.090909   \n",
       "\n",
       "         Predicted_Score  Number of Words  \n",
       "1134943              4.0              139  \n",
       "682603               1.0              184  \n",
       "1180647              1.0              348  \n",
       "1205329              4.0               30  \n",
       "1168057              4.0               20  "
      ]
     },
     "execution_count": 49,
     "metadata": {},
     "output_type": "execute_result"
    }
   ],
   "source": [
    "trainingSet[\"Number of Words\"] = trainingSet['Text'].apply(lambda x: len(x.split()))\n",
    "trainingSet.head()"
   ]
  },
  {
   "cell_type": "code",
   "execution_count": 52,
   "metadata": {},
   "outputs": [
    {
     "data": {
      "text/plain": [
       "159.31952871870396"
      ]
     },
     "execution_count": 52,
     "metadata": {},
     "output_type": "execute_result"
    }
   ],
   "source": [
    "trainingSet[\"Number of Words\"].mean()"
   ]
  },
  {
   "cell_type": "markdown",
   "metadata": {},
   "source": [
    "# Find if Product is popular or not"
   ]
  },
  {
   "cell_type": "code",
   "execution_count": 82,
   "metadata": {},
   "outputs": [],
   "source": [
    "import math\n",
    "from sklearn.cluster import KMeans\n",
    "\n",
    "kmeans = KMeans(n_clusters=5)\n",
    "trainingSet['num_reviews'] = trainingSet.groupby('ProductId')['ProductId'].transform('count')\n",
    "\n",
    "pop = trainingSet['num_reviews'].to_numpy()\n",
    "pop = pop.reshape(-1, 1)\n",
    "clusters = kmeans.fit_predict(pop)\n",
    "\n",
    "trainingSet['Popularity'] = clusters.tolist()"
   ]
  },
  {
   "cell_type": "code",
   "execution_count": 77,
   "metadata": {},
   "outputs": [],
   "source": [
    "trainingSet[\"Number of Words\"] = trainingSet['Text'].astype(str).apply(lambda x: len(x.split()))\n",
    "\n",
    "trainingSet['Review Length'] = trainingSet[\"Number of Words\"].apply(lambda x: 1 if x > 150 else 0)\n"
   ]
  },
  {
   "cell_type": "code",
   "execution_count": 84,
   "metadata": {},
   "outputs": [],
   "source": [
    "import numpy as np\n",
    "#transform Helpfulness into a binary variable with 0.50 ratio\n",
    "threshold = 0.5\n",
    "trainingSet['Helpful'] = np.where(trainingSet.loc[:, 'HelpfulnessNumerator'] / trainingSet.loc[:, 'HelpfulnessDenominator'] > threshold, 1, 0)"
   ]
  },
  {
   "cell_type": "code",
   "execution_count": null,
   "metadata": {},
   "outputs": [],
   "source": [
    "df = trainingSet.drop(columns=['Id', 'HelpfulnessNumerator', 'HelpfulnessDenominator'])"
   ]
  },
  {
   "cell_type": "code",
   "execution_count": 91,
   "metadata": {},
   "outputs": [
    {
     "name": "stdout",
     "output_type": "stream",
     "text": [
      "                    Score      Time  Sentiment_Score  Number of Words  \\\n",
      "Score            1.000000  0.084888         0.304684        -0.078896   \n",
      "Time             0.084888  1.000000         0.010993        -0.251353   \n",
      "Sentiment_Score  0.304684  0.010993         1.000000         0.062916   \n",
      "Number of Words -0.078896 -0.251353         0.062916         1.000000   \n",
      "Popularity       0.007392  0.066268         0.004390        -0.028583   \n",
      "num_reviews      0.007547  0.089272         0.016125        -0.027435   \n",
      "Review Length   -0.086143 -0.335000         0.020084         0.691933   \n",
      "Helpful          0.066956 -0.326008         0.054825         0.293446   \n",
      "\n",
      "                 Popularity  num_reviews  Review Length   Helpful  \n",
      "Score              0.007392     0.007547      -0.086143  0.066956  \n",
      "Time               0.066268     0.089272      -0.335000 -0.326008  \n",
      "Sentiment_Score    0.004390     0.016125       0.020084  0.054825  \n",
      "Number of Words   -0.028583    -0.027435       0.691933  0.293446  \n",
      "Popularity         1.000000     0.504507      -0.030105 -0.066669  \n",
      "num_reviews        0.504507     1.000000      -0.050857 -0.106351  \n",
      "Review Length     -0.030105    -0.050857       1.000000  0.333901  \n",
      "Helpful           -0.066669    -0.106351       0.333901  1.000000  \n"
     ]
    },
    {
     "data": {
      "image/png": "[encoded data removed]",
      "text/plain": [
       "<Figure size 640x480 with 2 Axes>"
      ]
     },
     "metadata": {},
     "output_type": "display_data"
    }
   ],
   "source": [
    "import seaborn as sns\n",
    "\n",
    "# calculate the correlations\n",
    "correlations = df.corr()\n",
    "\n",
    "# plot the heatmap \n",
    "sns.heatmap(correlations, xticklabels=correlations.columns, yticklabels=correlations.columns, annot=True)\n",
    "\n",
    "print(df.corr())"
   ]
  }
 ],
 "metadata": {
  "kernelspec": {
   "display_name": "Python 3.8.13 ('base')",
   "language": "python",
   "name": "python3"
  },
  "language_info": {
   "codemirror_mode": {
    "name": "ipython",
    "version": 3
   },
   "file_extension": ".py",
   "mimetype": "text/x-python",
   "name": "python",
   "nbconvert_exporter": "python",
   "pygments_lexer": "ipython3",
   "version": "3.8.13"
  },
  "orig_nbformat": 4,
  "vscode": {
   "interpreter": {
    "hash": "6207640d628bbc46386e6e1fc1afda9782516d459ce0b88565dd94ce3458c427"
   }
  }
 },
 "nbformat": 4,
 "nbformat_minor": 2
}
