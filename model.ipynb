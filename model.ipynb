{
 "cells": [
  {
   "cell_type": "markdown",
   "metadata": {},
   "source": [
    "# Process Data"
   ]
  },
  {
   "cell_type": "code",
   "execution_count": 1,
   "metadata": {},
   "outputs": [],
   "source": [
    "# import pandas as pd\n",
    "\n",
    "# def process(df):\n",
    "#     # This is where you can do all your processing\n",
    "#     df['Helpfulness'] = df['HelpfulnessNumerator'] / df['HelpfulnessDenominator']\n",
    "#     df['Helpfulness'] = df['Helpfulness'].fillna(0)\n",
    "\n",
    "#     return df\n",
    "\n",
    "# # Load the dataset\n",
    "# trainingSet = pd.read_csv(\"/Users/mzhen/Downloads/midterm-melzhen/data/train.csv\")\n",
    "\n",
    "# # Process the DataFrame\n",
    "# train_processed = process(trainingSet)\n",
    "\n",
    "# # Load test set\n",
    "# submissionSet = pd.read_csv(\"/Users/mzhen/Downloads/midterm-melzhen/data/test.csv\")\n",
    "\n",
    "# # Merge on Id so that the test set can have feature columns as well\n",
    "# testX= pd.merge(train_processed, submissionSet, left_on='Id', right_on='Id')\n",
    "# testX = testX.drop(columns=['Score_x'])\n",
    "# testX = testX.rename(columns={'Score_y': 'Score'})\n",
    "\n",
    "# # The training set is where the score is not null\n",
    "# trainX =  train_processed[train_processed['Score'].notnull()]\n",
    "\n",
    "# testX.to_csv(\"/Users/mzhen/Downloads/midterm-melzhen/data/X_test.csv\", index=False)\n",
    "# trainX.to_csv(\"/Users/mzhen/Downloads/midterm-melzhen/data/X_train.csv\", index=False)"
   ]
  },
  {
   "cell_type": "markdown",
   "metadata": {},
   "source": [
    "# Load and split data into Training and Testing Sets"
   ]
  },
  {
   "cell_type": "code",
   "execution_count": 2,
   "metadata": {},
   "outputs": [],
   "source": [
    "import pandas as pd\n",
    "import seaborn as sns\n",
    "import matplotlib.pyplot as plt\n",
    "\n",
    "from sklearn.model_selection import train_test_split\n",
    "\n",
    "X_train = pd.read_csv(\"/Users/mzhen/Downloads/midterm-melzhen/data/X_train.csv\")\n",
    "X_submission = pd.read_csv(\"/Users/mzhen/Downloads/midterm-melzhen/data/X_test.csv\")\n",
    "\n",
    "# Split training set into training and testing set\n",
    "X_train, X_test, Y_train, Y_test = train_test_split(\n",
    "            X_train.drop(['Score'], axis=1),\n",
    "            X_train['Score'],\n",
    "            test_size=1/4.0,\n",
    "            random_state=2\n",
    "        )"
   ]
  },
  {
   "cell_type": "code",
   "execution_count": 46,
   "metadata": {},
   "outputs": [],
   "source": [
    "X_train_processed = X_train.drop(columns=['Id', 'HelpfulnessNumerator', 'Time', 'HelpfulnessDenominator'])\n",
    "X_test_processed = X_test.drop(columns=['Id', 'HelpfulnessNumerator', 'Time', 'HelpfulnessDenominator'])\n",
    "X_submission_processed = X_submission.drop(columns=['Id', 'Score', 'Time', 'HelpfulnessNumerator', 'HelpfulnessDenominator'])"
   ]
  },
  {
   "cell_type": "code",
   "execution_count": 47,
   "metadata": {},
   "outputs": [],
   "source": [
    "X_train_processed['Score'] = Y_train\n",
    "X_train_processed = X_train_processed.sort_values(['ProductId', 'Helpfulness'], ascending=False)\n",
    "# handle missing values by forward filling\n",
    "X_train_processed= X_train_processed.fillna(method='ffill')\n",
    "Y_train = X_train_processed['Score']\n",
    "X_train_processed = X_train_processed.drop(columns = ['Score'])"
   ]
  },
  {
   "cell_type": "code",
   "execution_count": 48,
   "metadata": {},
   "outputs": [],
   "source": [
    "X_test_processed['Score'] = Y_test\n",
    "X_test_processed = X_test_processed.sort_values(['ProductId', 'Helpfulness'], ascending=False)\n",
    "# handle missing values by forward filling\n",
    "X_test_processed= X_test_processed.fillna(method='ffill')\n",
    "Y_test = X_test_processed['Score']\n",
    "X_test_processed = X_test_processed.drop(columns = ['Score'])"
   ]
  },
  {
   "cell_type": "code",
   "execution_count": 49,
   "metadata": {},
   "outputs": [],
   "source": [
    "# handle missing values by forward filling\n",
    "X_submission_processed= X_submission_processed.fillna(method='ffill')"
   ]
  },
  {
   "cell_type": "code",
   "execution_count": 50,
   "metadata": {},
   "outputs": [],
   "source": [
    "X_train_processed = X_train_processed.where(pd.notnull(X_train_processed), 'None')\n",
    "X_test_processed = X_test_processed.where(pd.notnull(X_test_processed), 'None')\n",
    "X_submission_processed = X_submission_processed.where(pd.notnull(X_submission_processed), 'None')"
   ]
  },
  {
   "cell_type": "code",
   "execution_count": 51,
   "metadata": {},
   "outputs": [
    {
     "data": {
      "text/html": [
       "<div>\n",
       "<style scoped>\n",
       "    .dataframe tbody tr th:only-of-type {\n",
       "        vertical-align: middle;\n",
       "    }\n",
       "\n",
       "    .dataframe tbody tr th {\n",
       "        vertical-align: top;\n",
       "    }\n",
       "\n",
       "    .dataframe thead th {\n",
       "        text-align: right;\n",
       "    }\n",
       "</style>\n",
       "<table border=\"1\" class=\"dataframe\">\n",
       "  <thead>\n",
       "    <tr style=\"text-align: right;\">\n",
       "      <th></th>\n",
       "      <th>ProductId</th>\n",
       "      <th>UserId</th>\n",
       "      <th>Summary</th>\n",
       "      <th>Text</th>\n",
       "      <th>Helpfulness</th>\n",
       "    </tr>\n",
       "  </thead>\n",
       "  <tbody>\n",
       "    <tr>\n",
       "      <th>1397530</th>\n",
       "      <td>B00LT1JHLW</td>\n",
       "      <td>A3DE438TF1A958</td>\n",
       "      <td>prayers have been answered because batman 60s ...</td>\n",
       "      <td>Could this be a true or I'm i dreaming batman ...</td>\n",
       "      <td>0.300000</td>\n",
       "    </tr>\n",
       "    <tr>\n",
       "      <th>1397526</th>\n",
       "      <td>B00LT1JHLW</td>\n",
       "      <td>APO10VQE3MAKE</td>\n",
       "      <td>Finally!</td>\n",
       "      <td>Well it is finally coming to fruition!  Batman...</td>\n",
       "      <td>0.222222</td>\n",
       "    </tr>\n",
       "    <tr>\n",
       "      <th>1397527</th>\n",
       "      <td>B00LT1JHLW</td>\n",
       "      <td>A3UHLJGZ2E84A5</td>\n",
       "      <td>$1.57 per episode. $3.14 per hour.</td>\n",
       "      <td>Seems expensive, but it is for 120 episodes. T...</td>\n",
       "      <td>0.190476</td>\n",
       "    </tr>\n",
       "    <tr>\n",
       "      <th>1397528</th>\n",
       "      <td>B00LT1JHLW</td>\n",
       "      <td>A22OB0DIJ5FO0G</td>\n",
       "      <td>Worth the wait, but worth the asking price, too?</td>\n",
       "      <td>Looking very much forward to this release, but...</td>\n",
       "      <td>0.166667</td>\n",
       "    </tr>\n",
       "    <tr>\n",
       "      <th>1397531</th>\n",
       "      <td>B00LT1JHLW</td>\n",
       "      <td>A2RWCXDMANY0LW</td>\n",
       "      <td>can't Wait!</td>\n",
       "      <td>I've been a fan of the series since I was a yo...</td>\n",
       "      <td>0.000000</td>\n",
       "    </tr>\n",
       "  </tbody>\n",
       "</table>\n",
       "</div>"
      ],
      "text/plain": [
       "          ProductId          UserId  \\\n",
       "1397530  B00LT1JHLW  A3DE438TF1A958   \n",
       "1397526  B00LT1JHLW   APO10VQE3MAKE   \n",
       "1397527  B00LT1JHLW  A3UHLJGZ2E84A5   \n",
       "1397528  B00LT1JHLW  A22OB0DIJ5FO0G   \n",
       "1397531  B00LT1JHLW  A2RWCXDMANY0LW   \n",
       "\n",
       "                                                   Summary  \\\n",
       "1397530  prayers have been answered because batman 60s ...   \n",
       "1397526                                           Finally!   \n",
       "1397527                 $1.57 per episode. $3.14 per hour.   \n",
       "1397528   Worth the wait, but worth the asking price, too?   \n",
       "1397531                                        can't Wait!   \n",
       "\n",
       "                                                      Text  Helpfulness  \n",
       "1397530  Could this be a true or I'm i dreaming batman ...     0.300000  \n",
       "1397526  Well it is finally coming to fruition!  Batman...     0.222222  \n",
       "1397527  Seems expensive, but it is for 120 episodes. T...     0.190476  \n",
       "1397528  Looking very much forward to this release, but...     0.166667  \n",
       "1397531  I've been a fan of the series since I was a yo...     0.000000  "
      ]
     },
     "execution_count": 51,
     "metadata": {},
     "output_type": "execute_result"
    }
   ],
   "source": [
    "X_train_processed.head()"
   ]
  },
  {
   "cell_type": "markdown",
   "metadata": {},
   "source": [
    "# Pre-Process Text and Summary columns"
   ]
  },
  {
   "cell_type": "code",
   "execution_count": 52,
   "metadata": {},
   "outputs": [
    {
     "name": "stderr",
     "output_type": "stream",
     "text": [
      "[nltk_data] Downloading package stopwords to /Users/mzhen/nltk_data...\n",
      "[nltk_data]   Package stopwords is already up-to-date!\n",
      "[nltk_data] Downloading package punkt to /Users/mzhen/nltk_data...\n",
      "[nltk_data]   Package punkt is already up-to-date!\n"
     ]
    }
   ],
   "source": [
    "import nltk\n",
    "import string\n",
    "\n",
    "nltk.download('stopwords')\n",
    "nltk.download('punkt')\n",
    "from nltk.corpus import stopwords\n",
    "\n",
    "stopwords_list = stopwords.words('english')\n",
    "\n",
    "def remove_punctuation(text):\n",
    "    return text.translate(str.maketrans('', '', string.punctuation))\n",
    "\n",
    "# remove stopwords\n",
    "def remove_stopWords(s):\n",
    "    s = ' '.join(word for word in s if word not in stopwords_list)\n",
    "    return s\n",
    "\n",
    "def Preprocess(df):\n",
    "  # remove non alphanumeric\n",
    "  df = df.astype(str).str.replace('[^a-zA-Z0-9 ]', '')\n",
    "  # lowercase\n",
    "  df = df.astype(str).apply(lambda x : str.lower(x))\n",
    "  # remove punctuation\n",
    "  df = df.astype(str).apply( lambda x: remove_punctuation(x))\n",
    "  # split into list\n",
    "  df = df.astype(str).str.split(' ')\n",
    "  # remove stopwords\n",
    "  df = df.apply(lambda x: remove_stopWords(x))\n",
    "  \n",
    "  return df"
   ]
  },
  {
   "cell_type": "code",
   "execution_count": 53,
   "metadata": {},
   "outputs": [
    {
     "name": "stderr",
     "output_type": "stream",
     "text": [
      "/var/folders/bz/453p46hx0blfvh51flvb0psr0000gn/T/ipykernel_6247/1835982481.py:20: FutureWarning: The default value of regex will change from True to False in a future version.\n",
      "  df = df.astype(str).str.replace('[^a-zA-Z0-9 ]', '')\n"
     ]
    }
   ],
   "source": [
    "X_train_processed['Text'] = Preprocess(X_train_processed['Text'])\n",
    "X_test_processed['Text'] = Preprocess(X_test_processed['Text'])\n",
    "X_submission_processed['Text'] = Preprocess(X_submission_processed['Text'])\n",
    "\n",
    "X_train_processed['Summary'] = Preprocess(X_train_processed['Summary'])\n",
    "X_test_processed['Summary'] = Preprocess(X_test_processed['Summary'])\n",
    "X_submission_processed['Summary'] = Preprocess(X_submission_processed['Summary'])"
   ]
  },
  {
   "cell_type": "code",
   "execution_count": 54,
   "metadata": {},
   "outputs": [],
   "source": [
    "X_train_processed[\"Number of Words\"] = X_train_processed['Text'].astype(str).apply(lambda x: len(x.split()))\n",
    "X_test_processed[\"Number of Words\"] = X_train_processed['Text'].astype(str).apply(lambda x: len(x.split()))\n",
    "X_submission_processed[\"Number of Words\"] = X_train_processed['Text'].astype(str).apply(lambda x: len(x.split()))"
   ]
  },
  {
   "cell_type": "markdown",
   "metadata": {},
   "source": [
    "# Combine Review attributes"
   ]
  },
  {
   "cell_type": "code",
   "execution_count": 56,
   "metadata": {},
   "outputs": [],
   "source": [
    "X_train_processed['Combined_Review'] = X_train_processed[\"Number of Words\"].astype(str).str.cat(X_train_processed['ProductId'].str.cat(X_train_processed['Text'].str.cat(X_train_processed['Summary'].str.cat(X_train_processed['UserId'], sep = ' '), sep = ' '), sep = ' '), sep = ' ')\n",
    "X_test_processed['Combined_Review'] = X_test_processed[\"Number of Words\"].astype(str).str.cat(X_test_processed['ProductId'].str.cat(X_test_processed['Text'].str.cat(X_test_processed['Summary'].str.cat(X_test_processed['UserId'], sep = ' '), sep = ' '), sep = ' '), sep = ' ')\n",
    "X_submission_processed['Combined_Review'] = X_submission_processed[\"Number of Words\"].astype(str).str.cat(X_submission_processed['ProductId'].str.cat(X_submission_processed['Text'].str.cat(X_submission_processed['Summary'].str.cat(X_submission_processed['UserId'], sep = ' '), sep = ' '), sep = ' '), sep = ' ')"
   ]
  },
  {
   "cell_type": "code",
   "execution_count": 57,
   "metadata": {},
   "outputs": [
    {
     "data": {
      "text/html": [
       "<div>\n",
       "<style scoped>\n",
       "    .dataframe tbody tr th:only-of-type {\n",
       "        vertical-align: middle;\n",
       "    }\n",
       "\n",
       "    .dataframe tbody tr th {\n",
       "        vertical-align: top;\n",
       "    }\n",
       "\n",
       "    .dataframe thead th {\n",
       "        text-align: right;\n",
       "    }\n",
       "</style>\n",
       "<table border=\"1\" class=\"dataframe\">\n",
       "  <thead>\n",
       "    <tr style=\"text-align: right;\">\n",
       "      <th></th>\n",
       "      <th>Helpfulness</th>\n",
       "      <th>Number of Words</th>\n",
       "      <th>Combined_Review</th>\n",
       "    </tr>\n",
       "  </thead>\n",
       "  <tbody>\n",
       "    <tr>\n",
       "      <th>0</th>\n",
       "      <td>0.000000</td>\n",
       "      <td>27.0</td>\n",
       "      <td>27.0 0005019281 favorite movie mine long time ...</td>\n",
       "    </tr>\n",
       "    <tr>\n",
       "      <th>1</th>\n",
       "      <td>0.000000</td>\n",
       "      <td>11.0</td>\n",
       "      <td>11.0 0005019281 even though dont care henry wi...</td>\n",
       "    </tr>\n",
       "    <tr>\n",
       "      <th>2</th>\n",
       "      <td>0.000000</td>\n",
       "      <td>NaN</td>\n",
       "      <td>nan 0005019281 anorher good movie holiday watc...</td>\n",
       "    </tr>\n",
       "    <tr>\n",
       "      <th>3</th>\n",
       "      <td>0.714286</td>\n",
       "      <td>15.0</td>\n",
       "      <td>15.0 0005019281 wife grew new hampshire versio...</td>\n",
       "    </tr>\n",
       "    <tr>\n",
       "      <th>4</th>\n",
       "      <td>0.000000</td>\n",
       "      <td>NaN</td>\n",
       "      <td>nan 0005019281 first didnt like movie think 20...</td>\n",
       "    </tr>\n",
       "    <tr>\n",
       "      <th>...</th>\n",
       "      <td>...</td>\n",
       "      <td>...</td>\n",
       "      <td>...</td>\n",
       "    </tr>\n",
       "    <tr>\n",
       "      <th>299995</th>\n",
       "      <td>0.000000</td>\n",
       "      <td>NaN</td>\n",
       "      <td>nan B00LH9ROKM seriously one take scott derric...</td>\n",
       "    </tr>\n",
       "    <tr>\n",
       "      <th>299996</th>\n",
       "      <td>0.284091</td>\n",
       "      <td>93.0</td>\n",
       "      <td>93.0 B00LT1JHLW lets clear  5 stars series pro...</td>\n",
       "    </tr>\n",
       "    <tr>\n",
       "      <th>299997</th>\n",
       "      <td>0.300000</td>\n",
       "      <td>NaN</td>\n",
       "      <td>nan B00LT1JHLW would also like see original 20...</td>\n",
       "    </tr>\n",
       "    <tr>\n",
       "      <th>299998</th>\n",
       "      <td>0.714286</td>\n",
       "      <td>14.0</td>\n",
       "      <td>14.0 B00LT1JHLW finally released dvd bluray no...</td>\n",
       "    </tr>\n",
       "    <tr>\n",
       "      <th>299999</th>\n",
       "      <td>0.071429</td>\n",
       "      <td>42.0</td>\n",
       "      <td>42.0 B00LT1JHLW wow 26999 entire series blu ra...</td>\n",
       "    </tr>\n",
       "  </tbody>\n",
       "</table>\n",
       "<p>300000 rows × 3 columns</p>\n",
       "</div>"
      ],
      "text/plain": [
       "        Helpfulness  Number of Words  \\\n",
       "0          0.000000             27.0   \n",
       "1          0.000000             11.0   \n",
       "2          0.000000              NaN   \n",
       "3          0.714286             15.0   \n",
       "4          0.000000              NaN   \n",
       "...             ...              ...   \n",
       "299995     0.000000              NaN   \n",
       "299996     0.284091             93.0   \n",
       "299997     0.300000              NaN   \n",
       "299998     0.714286             14.0   \n",
       "299999     0.071429             42.0   \n",
       "\n",
       "                                          Combined_Review  \n",
       "0       27.0 0005019281 favorite movie mine long time ...  \n",
       "1       11.0 0005019281 even though dont care henry wi...  \n",
       "2       nan 0005019281 anorher good movie holiday watc...  \n",
       "3       15.0 0005019281 wife grew new hampshire versio...  \n",
       "4       nan 0005019281 first didnt like movie think 20...  \n",
       "...                                                   ...  \n",
       "299995  nan B00LH9ROKM seriously one take scott derric...  \n",
       "299996  93.0 B00LT1JHLW lets clear  5 stars series pro...  \n",
       "299997  nan B00LT1JHLW would also like see original 20...  \n",
       "299998  14.0 B00LT1JHLW finally released dvd bluray no...  \n",
       "299999  42.0 B00LT1JHLW wow 26999 entire series blu ra...  \n",
       "\n",
       "[300000 rows x 3 columns]"
      ]
     },
     "execution_count": 57,
     "metadata": {},
     "output_type": "execute_result"
    }
   ],
   "source": [
    "X_train_processed.drop(columns = ['ProductId', 'Text', 'Summary', 'UserId'])\n",
    "X_test_processed.drop(columns = ['ProductId', 'Text', 'Summary', 'UserId'])\n",
    "X_submission_processed.drop(columns = ['ProductId', 'Text', 'Summary', 'UserId'])"
   ]
  },
  {
   "cell_type": "markdown",
   "metadata": {},
   "source": [
    "# Use CountVectorizer and finding the best max_df value \n",
    "\n",
    "Tested using Multinomial Naive Bayes Classifer since it runs the fastest."
   ]
  },
  {
   "cell_type": "code",
   "execution_count": 13,
   "metadata": {},
   "outputs": [],
   "source": [
    "# from sklearn.metrics import mean_squared_error\n",
    "# from sklearn.naive_bayes import MultinomialNB\n",
    "# from sklearn.feature_extraction.text import CountVectorizer\n",
    "\n",
    "# root_mse = []\n",
    "# max_df_val = 0.9\n",
    "\n",
    "# for i in range(10):\n",
    "#     vectorizer = CountVectorizer(stop_words = 'english', max_df=max_df_val, strip_accents = 'ascii', lowercase=True)\n",
    "\n",
    "#     X_train_mat = vectorizer.fit_transform(X_train_processed.Combined_Review)\n",
    "#     X_test_mat = vectorizer.transform(X_test_processed.Combined_Review)\n",
    "\n",
    "#     MNB = MultinomialNB()\n",
    "#     mnbModel = MNB.fit(X_train_mat, Y_train)\n",
    "\n",
    "#     y_pred = mnbModel.predict(X_test_mat)\n",
    "\n",
    "#     root_mse.append(mean_squared_error(Y_test, y_pred, squared=False))\n",
    "#     print(\"RMSE on testing set with max_df=\", max_df_val, \" is \", mean_squared_error(Y_test, y_pred, squared=False))\n",
    "    \n",
    "#     max_df_val += 0.01"
   ]
  },
  {
   "cell_type": "markdown",
   "metadata": {},
   "source": [
    "# Use TF-IDF Vectorizer \n",
    "I ended up getting a higher RMSE than when using CountVectorizer"
   ]
  },
  {
   "cell_type": "code",
   "execution_count": 14,
   "metadata": {},
   "outputs": [],
   "source": [
    "# from sklearn.feature_extraction.text import TfidfVectorizer as tf_idf\n",
    "\n",
    "\n",
    "# vectorizer = tf_idf(norm = None, stop_words = 'english', max_df=0.95, strip_accents = 'ascii', lowercase=True)\n",
    "# X_train_mat = vectorizer.fit_transform(X_train_processed.Combined_Review)\n",
    "# X_test_mat = vectorizer.transform(X_test_processed.Combined_Review)\n",
    "\n",
    "# from sklearn.metrics import accuracy_score, confusion_matrix, mean_squared_error\n",
    "# from sklearn.naive_bayes import MultinomialNB\n",
    "\n",
    "# MNB = MultinomialNB()\n",
    "\n",
    "# mnbModel = MNB.fit(X_train_mat, Y_train)\n",
    "\n",
    "# Y_pred = mnbModel.predict(X_test_mat)\n",
    "\n",
    "# # Evaluate your model on the testing set\n",
    "# print(\"Accuracy on testing set = \", accuracy_score(Y_test, Y_pred))\n",
    "# print(\"RMSE on testing set = \", mean_squared_error(Y_test, Y_pred, squared=False))"
   ]
  },
  {
   "cell_type": "markdown",
   "metadata": {},
   "source": [
    "# Use CountVectorizer with Optimal parameters"
   ]
  },
  {
   "cell_type": "code",
   "execution_count": 58,
   "metadata": {},
   "outputs": [],
   "source": [
    "from sklearn.feature_extraction.text import CountVectorizer\n",
    "\n",
    "vectorizer = CountVectorizer(stop_words = 'english', max_df=0.92, strip_accents = 'ascii', lowercase=True)"
   ]
  },
  {
   "cell_type": "code",
   "execution_count": 59,
   "metadata": {},
   "outputs": [],
   "source": [
    "X_train_processed = X_train_processed['Helpfulness'].astype(str).str.cat(X_train_processed['Combined_Review'], sep = ' ')\n",
    "X_test_processed = X_test_processed['Helpfulness'].astype(str).str.cat(X_test_processed['Combined_Review'], sep = ' ')\n",
    "X_submission_processed = X_submission_processed['Helpfulness'].astype(str).str.cat(X_submission_processed['Combined_Review'], sep = ' ')"
   ]
  },
  {
   "cell_type": "code",
   "execution_count": 60,
   "metadata": {},
   "outputs": [],
   "source": [
    "X_train_mat = vectorizer.fit_transform(X_train_processed)\n",
    "X_test_mat = vectorizer.transform(X_test_processed)"
   ]
  },
  {
   "cell_type": "markdown",
   "metadata": {},
   "source": [
    "# Using Multinomial Naive Bayes Classifier"
   ]
  },
  {
   "cell_type": "code",
   "execution_count": 61,
   "metadata": {},
   "outputs": [
    {
     "name": "stdout",
     "output_type": "stream",
     "text": [
      "Accuracy on testing set =  0.6113903326998374\n",
      "RMSE on testing set =  1.0342753860328338\n"
     ]
    }
   ],
   "source": [
    "from sklearn.metrics import accuracy_score, confusion_matrix, mean_squared_error\n",
    "from sklearn.naive_bayes import MultinomialNB\n",
    "\n",
    "MNB = MultinomialNB()\n",
    "\n",
    "mnbModel = MNB.fit(X_train_mat, Y_train)\n",
    "\n",
    "Y_pred = mnbModel.predict(X_test_mat)\n",
    "\n",
    "# Evaluate your model on the testing set\n",
    "print(\"Accuracy on testing set = \", accuracy_score(Y_test, Y_pred))\n",
    "print(\"RMSE on testing set = \", mean_squared_error(Y_test, Y_pred, squared=False))"
   ]
  },
  {
   "cell_type": "markdown",
   "metadata": {},
   "source": [
    "# Using Logistic Regression Classifier"
   ]
  },
  {
   "cell_type": "code",
   "execution_count": 62,
   "metadata": {},
   "outputs": [
    {
     "name": "stderr",
     "output_type": "stream",
     "text": [
      "/Users/mzhen/opt/anaconda3/lib/python3.8/site-packages/sklearn/linear_model/_logistic.py:444: ConvergenceWarning: lbfgs failed to converge (status=1):\n",
      "STOP: TOTAL NO. of ITERATIONS REACHED LIMIT.\n",
      "\n",
      "Increase the number of iterations (max_iter) or scale the data as shown in:\n",
      "    https://scikit-learn.org/stable/modules/preprocessing.html\n",
      "Please also refer to the documentation for alternative solver options:\n",
      "    https://scikit-learn.org/stable/modules/linear_model.html#logistic-regression\n",
      "  n_iter_i = _check_optimize_result(\n"
     ]
    },
    {
     "name": "stdout",
     "output_type": "stream",
     "text": [
      "Accuracy on testing set =  0.6475253589174089\n",
      "RMSE on testing set =  0.9203054285591599\n"
     ]
    }
   ],
   "source": [
    "from sklearn.linear_model import LogisticRegression\n",
    "from sklearn.metrics import accuracy_score, confusion_matrix, mean_squared_error\n",
    "\n",
    "\n",
    "LR = LogisticRegression()\n",
    "\n",
    "lrModel = LR.fit(X_train_mat, Y_train)\n",
    "\n",
    "Y_pred = lrModel.predict(X_test_mat)\n",
    "\n",
    "# Evaluate your model on the testing set\n",
    "print(\"Accuracy on testing set = \", accuracy_score(Y_test, Y_pred))\n",
    "print(\"RMSE on testing set = \", mean_squared_error(Y_test, Y_pred, squared=False))"
   ]
  },
  {
   "cell_type": "code",
   "execution_count": 19,
   "metadata": {},
   "outputs": [],
   "source": [
    "# LR2 = LogisticRegression(C=1000, tol=0.01, solver='saga', random_state=1)\n",
    "\n",
    "# lrModel2 = LR2.fit(X_train_mat, Y_train)\n",
    "\n",
    "# Y_pred = lrModel2.predict(X_test_mat)\n",
    "\n",
    "# # Evaluate your model on the testing set\n",
    "# print(\"Accuracy on testing set = \", accuracy_score(Y_test, Y_pred))\n",
    "# print(\"RMSE on testing set = \", mean_squared_error(Y_test, Y_pred, squared=False))"
   ]
  },
  {
   "cell_type": "markdown",
   "metadata": {},
   "source": [
    "# Plot Confusion Matrix"
   ]
  },
  {
   "cell_type": "code",
   "execution_count": 63,
   "metadata": {},
   "outputs": [
    {
     "data": {
      "image/png": "[encoded data removed]",
      "text/plain": [
       "<Figure size 640x480 with 2 Axes>"
      ]
     },
     "metadata": {},
     "output_type": "display_data"
    }
   ],
   "source": [
    "# Plot a confusion matrix\n",
    "cm = confusion_matrix(Y_test, Y_pred, normalize='true')\n",
    "sns.heatmap(cm, annot=True)\n",
    "plt.title('Confusion matrix of the classifier')\n",
    "plt.xlabel('Predicted')\n",
    "plt.ylabel('True')\n",
    "plt.show()"
   ]
  },
  {
   "cell_type": "markdown",
   "metadata": {},
   "source": [
    "# Predict Scores and save to csv file"
   ]
  },
  {
   "cell_type": "code",
   "execution_count": 64,
   "metadata": {},
   "outputs": [],
   "source": [
    "X_submission_mat = vectorizer.transform(X_submission_processed)\n",
    "X_submission['Score'] = lrModel.predict(X_submission_mat)"
   ]
  },
  {
   "cell_type": "code",
   "execution_count": 65,
   "metadata": {},
   "outputs": [],
   "source": [
    "submission = X_submission[['Id', 'Score']]\n",
    "submission.to_csv(\"./data/submission18.csv\", index=False)"
   ]
  }
 ],
 "metadata": {
  "kernelspec": {
   "display_name": "Python 3.8.13 ('base')",
   "language": "python",
   "name": "python3"
  },
  "language_info": {
   "codemirror_mode": {
    "name": "ipython",
    "version": 3
   },
   "file_extension": ".py",
   "mimetype": "text/x-python",
   "name": "python",
   "nbconvert_exporter": "python",
   "pygments_lexer": "ipython3",
   "version": "3.8.13"
  },
  "orig_nbformat": 4,
  "vscode": {
   "interpreter": {
    "hash": "6207640d628bbc46386e6e1fc1afda9782516d459ce0b88565dd94ce3458c427"
   }
  }
 },
 "nbformat": 4,
 "nbformat_minor": 2
}
